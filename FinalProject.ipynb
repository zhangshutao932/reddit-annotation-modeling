{
 "cells": [
  {
   "cell_type": "markdown",
   "metadata": {
    "id": "qWtqOHJlCw5i"
   },
   "source": [
    "IS6713 Final Project Modeling Results"
   ]
  },
  {
   "cell_type": "code",
   "execution_count": 32,
   "metadata": {
    "colab": {
     "base_uri": "https://localhost:8080/"
    },
    "id": "KYj5DBXx6BY8",
    "outputId": "eed05a75-40f3-4893-c463-2482a86ebc97"
   },
   "outputs": [
    {
     "name": "stdout",
     "output_type": "stream",
     "text": [
      "TF-IDF - Macro F1: 0.5726, Micro F1: 0.6650\n",
      "Lexicon - Macro F1: 0.3865, Micro F1: 0.6300\n",
      "Structural - Macro F1: 0.3990, Micro F1: 0.6300\n",
      "Best model: TF-IDF\n",
      "Scores: (0.5725814168607062, 0.665)\n"
     ]
    }
   ],
   "source": [
    "import pandas as pd\n",
    "import numpy as np\n",
    "from sklearn.model_selection import train_test_split\n",
    "from sklearn.metrics import classification_report\n",
    "from sklearn.feature_extraction.text import TfidfVectorizer\n",
    "from sklearn.linear_model import LogisticRegression\n",
    "from textblob import TextBlob\n",
    "import string\n",
    "import re\n",
    "\n",
    "df = pd.read_excel(\"Annotated_Comments.xlsx\")\n",
    "df.columns = [\"Comment\", \"Technology\", \"Political\"]\n",
    "\n",
    "df[\"Label\"] = df[\"Technology\"].map({\"tech\": 1, \"NoneTech\": 0})\n",
    "\n",
    "df = df.dropna(subset=[\"Comment\", \"Label\"])\n",
    "\n",
    "X = df[\"Comment\"].astype(str)\n",
    "y = df[\"Label\"]\n",
    "\n",
    "X_train, X_test, y_train, y_test = train_test_split(\n",
    "    df['Comment'], df['Label'], test_size=0.2, random_state=42, stratify=df['Label']\n",
    ")\n",
    "\n",
    "tfidf = TfidfVectorizer(stop_words='english', max_features=1000)\n",
    "X_train_tfidf = tfidf.fit_transform(X_train)\n",
    "X_test_tfidf = tfidf.transform(X_test)\n",
    "\n",
    "def extract_sentiment_features(texts):\n",
    "    polarity = []\n",
    "    subjectivity = []\n",
    "    for text in texts:\n",
    "        blob = TextBlob(str(text))\n",
    "        polarity.append(blob.sentiment.polarity)\n",
    "        subjectivity.append(blob.sentiment.subjectivity)\n",
    "    return np.array(list(zip(polarity, subjectivity)))\n",
    "\n",
    "X_train_lex = extract_sentiment_features(X_train)\n",
    "X_test_lex = extract_sentiment_features(X_test)\n",
    "\n",
    "def extract_structural_features(texts):\n",
    "    features = []\n",
    "    for text in texts:\n",
    "        text = str(text)\n",
    "        num_caps = sum(1 for c in text if c.isupper())\n",
    "        num_exclaims = text.count('!')\n",
    "        length = len(text)\n",
    "        features.append([num_caps, num_exclaims, length])\n",
    "    return np.array(features)\n",
    "\n",
    "X_train_struct = extract_structural_features(X_train)\n",
    "X_test_struct = extract_structural_features(X_test)\n",
    "\n",
    "models = {}\n",
    "scores = {}\n",
    "\n",
    "for name, Xtr, Xte in [\n",
    "    (\"TF-IDF\", X_train_tfidf, X_test_tfidf),\n",
    "    (\"Lexicon\", X_train_lex, X_test_lex),\n",
    "    (\"Structural\", X_train_struct, X_test_struct)\n",
    "]:\n",
    "    model = LogisticRegression(max_iter=1000)\n",
    "    model.fit(Xtr, y_train)\n",
    "    y_pred = model.predict(Xte)\n",
    "    macro_f1 = f1_score(y_test, y_pred, average='macro')\n",
    "    micro_f1 = f1_score(y_test, y_pred, average='micro')\n",
    "    scores[name] = (macro_f1, micro_f1)\n",
    "    models[name] = (model, Xte, y_pred)\n",
    "\n",
    "for model_name, (macro, micro) in scores.items():\n",
    "    print(f\"{model_name} - Macro F1: {macro:.4f}, Micro F1: {micro:.4f}\")\n",
    "\n",
    "best_model_name = max(scores.items(), key=lambda x: x[1][0])[0]\n",
    "print(f\"Best model: {best_model_name}\")\n",
    "print(\"Scores:\", scores[best_model_name])\n",
    "\n",
    "best_model, best_X, best_preds = models[best_model_name]\n",
    "output_df = pd.DataFrame({\n",
    "    \"comment\": X_test,\n",
    "    \"true_label\": y_test.values,\n",
    "    \"predicted_label\": best_preds\n",
    "})\n",
    "output_df.to_csv(\"best_model_predictions_tech.csv\", index=False)"
   ]
  },
  {
   "cell_type": "code",
   "execution_count": 33,
   "metadata": {
    "colab": {
     "base_uri": "https://localhost:8080/"
    },
    "id": "QDfHkmHaByF1",
    "outputId": "b7f785e7-1612-4abe-b28e-c7e89cecfc84"
   },
   "outputs": [
    {
     "name": "stdout",
     "output_type": "stream",
     "text": [
      "TF-IDF - Macro F1: 0.4872, Micro F1: 0.9500\n",
      "Lexicon - Macro F1: 0.4872, Micro F1: 0.9500\n",
      "Structural - Macro F1: 0.7217, Micro F1: 0.9650\n",
      "Best model: Structural\n",
      "Scores: (0.721725303120652, 0.965)\n"
     ]
    }
   ],
   "source": [
    "df[\"Label\"] = df[\"Political\"].map({\"Pol\": 1, \"NoPol\": 0})\n",
    "\n",
    "df = df.dropna(subset=[\"Comment\", \"Label\"])\n",
    "\n",
    "X = df[\"Comment\"].astype(str)\n",
    "y = df[\"Label\"]\n",
    "\n",
    "X_train, X_test, y_train, y_test = train_test_split(\n",
    "    df['Comment'], df['Label'], test_size=0.2, random_state=42, stratify=df['Label']\n",
    ")\n",
    "\n",
    "tfidf = TfidfVectorizer(stop_words='english', max_features=1000)\n",
    "X_train_tfidf = tfidf.fit_transform(X_train)\n",
    "X_test_tfidf = tfidf.transform(X_test)\n",
    "\n",
    "def extract_sentiment_features(texts):\n",
    "    polarity = []\n",
    "    subjectivity = []\n",
    "    for text in texts:\n",
    "        blob = TextBlob(str(text))\n",
    "        polarity.append(blob.sentiment.polarity)\n",
    "        subjectivity.append(blob.sentiment.subjectivity)\n",
    "    return np.array(list(zip(polarity, subjectivity)))\n",
    "\n",
    "X_train_lex = extract_sentiment_features(X_train)\n",
    "X_test_lex = extract_sentiment_features(X_test)\n",
    "\n",
    "def extract_structural_features(texts):\n",
    "    features = []\n",
    "    for text in texts:\n",
    "        text = str(text)\n",
    "        num_caps = sum(1 for c in text if c.isupper())\n",
    "        num_exclaims = text.count('!')\n",
    "        length = len(text)\n",
    "        features.append([num_caps, num_exclaims, length])\n",
    "    return np.array(features)\n",
    "\n",
    "X_train_struct = extract_structural_features(X_train)\n",
    "X_test_struct = extract_structural_features(X_test)\n",
    "\n",
    "models = {}\n",
    "scores = {}\n",
    "\n",
    "for name, Xtr, Xte in [\n",
    "    (\"TF-IDF\", X_train_tfidf, X_test_tfidf),\n",
    "    (\"Lexicon\", X_train_lex, X_test_lex),\n",
    "    (\"Structural\", X_train_struct, X_test_struct)\n",
    "]:\n",
    "    model = LogisticRegression(max_iter=1000)\n",
    "    model.fit(Xtr, y_train)\n",
    "    y_pred = model.predict(Xte)\n",
    "    macro_f1 = f1_score(y_test, y_pred, average='macro')\n",
    "    micro_f1 = f1_score(y_test, y_pred, average='micro')\n",
    "    scores[name] = (macro_f1, micro_f1)\n",
    "    models[name] = (model, Xte, y_pred)\n",
    "\n",
    "for model_name, (macro, micro) in scores.items():\n",
    "    print(f\"{model_name} - Macro F1: {macro:.4f}, Micro F1: {micro:.4f}\")\n",
    "\n",
    "best_model_name = max(scores.items(), key=lambda x: x[1][0])[0]\n",
    "print(f\"Best model: {best_model_name}\")\n",
    "print(\"Scores:\", scores[best_model_name])\n",
    "\n",
    "best_model, best_X, best_preds = models[best_model_name]\n",
    "output_df = pd.DataFrame({\n",
    "    \"comment\": X_test,\n",
    "    \"true_label\": y_test.values,\n",
    "    \"predicted_label\": best_preds\n",
    "})\n",
    "output_df.to_csv(\"best_model_predictions_pol.csv\", index=False)"
   ]
  }
 ],
 "metadata": {
  "colab": {
   "provenance": []
  },
  "kernelspec": {
   "display_name": "Python 3 (ipykernel)",
   "language": "python",
   "name": "python3"
  },
  "language_info": {
   "codemirror_mode": {
    "name": "ipython",
    "version": 3
   },
   "file_extension": ".py",
   "mimetype": "text/x-python",
   "name": "python",
   "nbconvert_exporter": "python",
   "pygments_lexer": "ipython3",
   "version": "3.9.6"
  }
 },
 "nbformat": 4,
 "nbformat_minor": 4
}
